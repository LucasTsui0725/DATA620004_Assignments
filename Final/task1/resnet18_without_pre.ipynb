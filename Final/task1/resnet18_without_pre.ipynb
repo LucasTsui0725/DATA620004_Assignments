{
 "cells": [
  {
   "attachments": {},
   "cell_type": "markdown",
   "metadata": {},
   "source": [
    "# Resnet18 without pretrain"
   ]
  },
  {
   "cell_type": "code",
   "execution_count": 1,
   "metadata": {},
   "outputs": [],
   "source": [
    "from baseline_resnet18 import ResNet18\n",
    "from Pretrain_resnet18 import clf_head\n",
    "#Use the ResNet18 on Cifar-10\n",
    "import torch.optim as optim\n",
    "import torchvision\n",
    "import torchvision.transforms as transforms\n",
    "import torch\n",
    "import torch.nn as nn\n",
    "\n",
    "from torch.utils.tensorboard import SummaryWriter\n",
    "\n",
    "from sklearn.metrics import accuracy_score,f1_score"
   ]
  },
  {
   "cell_type": "code",
   "execution_count": 2,
   "metadata": {},
   "outputs": [
    {
     "name": "stdout",
     "output_type": "stream",
     "text": [
      "Files already downloaded and verified\n",
      "Files already downloaded and verified\n"
     ]
    }
   ],
   "source": [
    "#check gpu\n",
    "device = torch.device(\"cuda\" if torch.cuda.is_available() else \"cpu\")\n",
    "\n",
    "#set hyperparameter\n",
    "EPOCH = 10\n",
    "pre_epoch = 0\n",
    "BATCH_SIZE = 50\n",
    "LR = 0.0005\n",
    "\n",
    "#prepare dataset and preprocessing\n",
    "transform_train = transforms.Compose([\n",
    "    transforms.Resize([128,128]),\n",
    "    transforms.RandomCrop(128, padding=4),\n",
    "    transforms.RandomHorizontalFlip(),\n",
    "    transforms.ToTensor(),\n",
    "    transforms.Normalize((0.4914, 0.4822, 0.4465), (0.2023, 0.1994, 0.2010))\n",
    "])\n",
    "\n",
    "transform_test = transforms.Compose([\n",
    "    transforms.Resize([128,128]),\n",
    "    transforms.ToTensor(),\n",
    "    transforms.Normalize((0.4914, 0.4822, 0.4465), (0.2023, 0.1994, 0.2010))\n",
    "])\n",
    "\n",
    "trainset = torchvision.datasets.CIFAR10(root='../data_CIFAR10', train=True, download=True, transform=transform_train)\n",
    "trainloader = torch.utils.data.DataLoader(trainset, batch_size=BATCH_SIZE, shuffle=True, num_workers=2)\n",
    "\n",
    "testset = torchvision.datasets.CIFAR10(root='../data_CIFAR10', train=False, download=True, transform=transform_test)\n",
    "testloader = torch.utils.data.DataLoader(testset, batch_size=100, shuffle=False, num_workers=2)\n",
    "\n",
    "#labels in CIFAR10\n",
    "classes = ('plane', 'car', 'bird', 'cat', 'deer', 'dog', 'frog', 'horse', 'ship', 'truck')\n"
   ]
  },
  {
   "cell_type": "code",
   "execution_count": null,
   "metadata": {},
   "outputs": [],
   "source": [
    "#define ResNet18\n",
    "baseline_model = ResNet18().to(device)\n",
    "clf=clf_head(512,9,10).to(device)\n",
    "\n",
    "#define loss funtion & optimizer\n",
    "loss_f = nn.CrossEntropyLoss()\n",
    "optimizer = optim.Adam([{'params': baseline_model.parameters()}, \n",
    "                        {'params': clf.parameters()}], lr=LR, weight_decay=5e-4)\n",
    "\n",
    "writer = SummaryWriter('../logs/baseline_ResNet18')"
   ]
  },
  {
   "cell_type": "code",
   "execution_count": 3,
   "metadata": {},
   "outputs": [
    {
     "name": "stdout",
     "output_type": "stream",
     "text": [
      "epoch: 0\n",
      "Train start\n",
      "Train finish\n",
      "Test start\n",
      "Test finish\n",
      "epoch: 1\n",
      "Train start\n",
      "Train finish\n",
      "Test start\n",
      "Test finish\n",
      "epoch: 2\n",
      "Train start\n",
      "Train finish\n",
      "Test start\n",
      "Test finish\n",
      "epoch: 3\n",
      "Train start\n",
      "Train finish\n",
      "Test start\n",
      "Test finish\n",
      "epoch: 4\n",
      "Train start\n",
      "Train finish\n",
      "Test start\n",
      "Test finish\n",
      "epoch: 5\n",
      "Train start\n",
      "Train finish\n",
      "Test start\n",
      "Test finish\n",
      "epoch: 6\n",
      "Train start\n",
      "Train finish\n",
      "Test start\n",
      "Test finish\n",
      "epoch: 7\n",
      "Train start\n",
      "Train finish\n",
      "Test start\n",
      "Test finish\n",
      "epoch: 8\n",
      "Train start\n",
      "Train finish\n",
      "Test start\n",
      "Test finish\n",
      "epoch: 9\n",
      "Train start\n",
      "Train finish\n",
      "Test start\n",
      "Test finish\n",
      "All train finish, Acc in test is  tensor(0.8241, device='cuda:0')\n"
     ]
    }
   ],
   "source": [
    "# train\n",
    "for epoch in range(pre_epoch, EPOCH):\n",
    "    print('epoch:', epoch)\n",
    "    print('Train start')\n",
    "\n",
    "    baseline_model.train()\n",
    "    clf.train()\n",
    "\n",
    "    for i, data in enumerate(trainloader, 0):\n",
    "        # prepare dataset\n",
    "        length = len(trainloader)\n",
    "        inputs, labels = data\n",
    "        inputs, labels = inputs.to(device), labels.to(device)\n",
    "        optimizer.zero_grad()\n",
    "\n",
    "        # forward & backward\n",
    "        outputs = baseline_model(inputs)\n",
    "        outputs = clf(outputs)\n",
    "        loss = loss_f(outputs, labels)\n",
    "        loss.backward()\n",
    "        optimizer.step()\n",
    "\n",
    "        # print ac & loss in each batch\n",
    "        with torch.no_grad():\n",
    "            outputs_target = outputs.detach().cpu().numpy().argmax(axis=1)\n",
    "            labels_check = labels.detach().cpu().numpy()\n",
    "            acc_train = accuracy_score(labels_check, outputs_target)\n",
    "            f1_train = f1_score(labels_check, outputs_target, average='macro')\n",
    "\n",
    "            writer.add_scalar(\"Train/Loss\",\n",
    "                              loss.item(), (i + 1 + epoch * length))\n",
    "            writer.add_scalar(\"Train/Acc\",\n",
    "                              acc_train, (i + 1 + epoch * length))\n",
    "            writer.add_scalar(\"Train/F1_score(macro)\",\n",
    "                              f1_train, (i + 1 + epoch * length))\n",
    "\n",
    "    # get the ac with testdataset in each epoch\n",
    "    print('Train finish')\n",
    "\n",
    "    print('Test start')\n",
    "    with torch.no_grad():\n",
    "        correct = 0\n",
    "        total = 0\n",
    "        for data in testloader:\n",
    "            baseline_model.eval()\n",
    "            clf.eval()\n",
    "            images, labels = data\n",
    "            images, labels = images.to(device), labels.to(device)\n",
    "            outputs = baseline_model(images)\n",
    "            outputs = clf(outputs)\n",
    "            predicted = outputs.detach().argmax(axis=1)\n",
    "\n",
    "            total += labels.size(0)\n",
    "            correct += (predicted == labels).sum()\n",
    "\n",
    "        writer.add_scalar(\"Test/Acc\",\n",
    "                          correct/total, epoch)\n",
    "    print('Test finish')\n",
    "\n",
    "\n",
    "print('All train finish, Acc in test is ', (correct/total).item())"
   ]
  },
  {
   "cell_type": "code",
   "execution_count": 5,
   "metadata": {},
   "outputs": [
    {
     "name": "stdout",
     "output_type": "stream",
     "text": [
      "Without pretrain model saved\n"
     ]
    }
   ],
   "source": [
    "torch.save(baseline_model,'../model_path/resnet18.pt')\n",
    "torch.save(clf,'../model_path/resnet18_clf_head.pt')\n",
    "print('Without pretrain model saved')"
   ]
  }
 ],
 "metadata": {
  "kernelspec": {
   "display_name": "NNDL",
   "language": "python",
   "name": "python3"
  },
  "language_info": {
   "codemirror_mode": {
    "name": "ipython",
    "version": 3
   },
   "file_extension": ".py",
   "mimetype": "text/x-python",
   "name": "python",
   "nbconvert_exporter": "python",
   "pygments_lexer": "ipython3",
   "version": "3.11.3"
  },
  "orig_nbformat": 4
 },
 "nbformat": 4,
 "nbformat_minor": 2
}
