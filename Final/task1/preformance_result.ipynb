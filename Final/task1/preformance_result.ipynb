{
 "cells": [
  {
   "attachments": {},
   "cell_type": "markdown",
   "metadata": {},
   "source": [
    "# Performance result"
   ]
  },
  {
   "cell_type": "code",
   "execution_count": 1,
   "metadata": {},
   "outputs": [],
   "source": [
    "from baseline_resnet18 import ResNet18\n",
    "from Pretrain_resnet18 import clf_head\n",
    "#Use the ResNet18 on Cifar-10\n",
    "import torch.optim as optim\n",
    "import torchvision\n",
    "import torchvision.transforms as transforms\n",
    "import torch\n",
    "import torch.nn as nn\n",
    "\n",
    "from torch.utils.tensorboard import SummaryWriter\n",
    "\n",
    "from sklearn.metrics import accuracy_score,f1_score"
   ]
  },
  {
   "attachments": {},
   "cell_type": "markdown",
   "metadata": {},
   "source": [
    "## Data step"
   ]
  },
  {
   "cell_type": "code",
   "execution_count": 2,
   "metadata": {},
   "outputs": [
    {
     "name": "stdout",
     "output_type": "stream",
     "text": [
      "Files already downloaded and verified\n",
      "Files already downloaded and verified\n"
     ]
    }
   ],
   "source": [
    "#check gpu\n",
    "device = torch.device(\"cuda\" if torch.cuda.is_available() else \"cpu\")\n",
    "\n",
    "#set hyperparameter\n",
    "EPOCH = 10\n",
    "pre_epoch = 0\n",
    "BATCH_SIZE = 50\n",
    "LR = 0.0005\n",
    "\n",
    "#prepare dataset and preprocessing\n",
    "transform_train = transforms.Compose([\n",
    "    transforms.Resize([128,128]),\n",
    "    transforms.RandomCrop(128, padding=4),\n",
    "    transforms.RandomHorizontalFlip(),\n",
    "    transforms.ToTensor(),\n",
    "    transforms.Normalize((0.4914, 0.4822, 0.4465), (0.2023, 0.1994, 0.2010))\n",
    "])\n",
    "\n",
    "transform_test = transforms.Compose([\n",
    "    transforms.Resize([128,128]),\n",
    "    transforms.ToTensor(),\n",
    "    transforms.Normalize((0.4914, 0.4822, 0.4465), (0.2023, 0.1994, 0.2010))\n",
    "])\n",
    "\n",
    "trainset = torchvision.datasets.CIFAR10(root='../data_CIFAR10', train=True, download=True, transform=transform_train)\n",
    "trainloader = torch.utils.data.DataLoader(trainset, batch_size=BATCH_SIZE, shuffle=True, num_workers=2)\n",
    "\n",
    "testset = torchvision.datasets.CIFAR10(root='../data_CIFAR10', train=False, download=True, transform=transform_test)\n",
    "testloader = torch.utils.data.DataLoader(testset, batch_size=100, shuffle=False, num_workers=2)\n",
    "\n",
    "#labels in CIFAR10\n",
    "classes = ('plane', 'car', 'bird', 'cat', 'deer', 'dog', 'frog', 'horse', 'ship', 'truck')\n"
   ]
  },
  {
   "attachments": {},
   "cell_type": "markdown",
   "metadata": {},
   "source": [
    "## ResNet18 **without** pretrain"
   ]
  },
  {
   "cell_type": "code",
   "execution_count": 3,
   "metadata": {},
   "outputs": [
    {
     "name": "stdout",
     "output_type": "stream",
     "text": [
      "ResNet18 without pretrain \n",
      " Acc: 0.8240999579429626\n"
     ]
    }
   ],
   "source": [
    "baseline_model=torch.load('../model_path/resnet18.pt')\n",
    "clf=torch.load('../model_path/resnet18_clf_head.pt')\n",
    "total=0\n",
    "correct=0\n",
    "for data in testloader:\n",
    "    baseline_model.eval()\n",
    "    clf.eval()\n",
    "    images, labels = data\n",
    "    images, labels = images.to(device), labels.to(device)\n",
    "    outputs = baseline_model(images)\n",
    "    outputs = clf(outputs)\n",
    "    predicted = outputs.detach().argmax(axis=1)\n",
    "\n",
    "    total += labels.size(0)\n",
    "    correct += (predicted == labels).sum()\n",
    "print('ResNet18 without pretrain \\n Acc:',(correct/total).item())"
   ]
  },
  {
   "attachments": {},
   "cell_type": "markdown",
   "metadata": {},
   "source": [
    "## ResNet18 **with** pretrain(Color)"
   ]
  },
  {
   "cell_type": "code",
   "execution_count": 4,
   "metadata": {},
   "outputs": [
    {
     "name": "stdout",
     "output_type": "stream",
     "text": [
      "ResNet18 with pretrain(Color) \n",
      " Acc: 0.289000004529953\n"
     ]
    }
   ],
   "source": [
    "baseline_model=torch.load('../model_path/pretrain_resnet18_color_24.pt')\n",
    "clf=torch.load('../model_path/resnet18_color_clf_head.pt')\n",
    "total=0\n",
    "correct=0\n",
    "for data in testloader:\n",
    "    baseline_model.eval()\n",
    "    clf.eval()\n",
    "    images, labels = data\n",
    "    images, labels = images.to(device), labels.to(device)\n",
    "    outputs = baseline_model(images)\n",
    "    outputs = clf(outputs)\n",
    "    predicted = outputs.detach().argmax(axis=1)\n",
    "\n",
    "    total += labels.size(0)\n",
    "    correct += (predicted == labels).sum()\n",
    "print('ResNet18 with pretrain(Color) \\n Acc:',(correct/total).item())"
   ]
  },
  {
   "attachments": {},
   "cell_type": "markdown",
   "metadata": {},
   "source": [
    "## ResNet18 **with** pretrain(Rotation)"
   ]
  },
  {
   "cell_type": "code",
   "execution_count": 5,
   "metadata": {},
   "outputs": [
    {
     "name": "stdout",
     "output_type": "stream",
     "text": [
      "ResNet18 with pretrain(Rotation) \n",
      " Acc: 0.4145999848842621\n"
     ]
    }
   ],
   "source": [
    "baseline_model=torch.load('../model_path/pretrain_resnet18_rotation_24.pt')\n",
    "clf=torch.load('../model_path/resnet18_rotation_clf_head.pt')\n",
    "total=0\n",
    "correct=0\n",
    "for data in testloader:\n",
    "    baseline_model.eval()\n",
    "    clf.eval()\n",
    "    images, labels = data\n",
    "    images, labels = images.to(device), labels.to(device)\n",
    "    outputs = baseline_model(images)\n",
    "    outputs = clf(outputs)\n",
    "    predicted = outputs.detach().argmax(axis=1)\n",
    "\n",
    "    total += labels.size(0)\n",
    "    correct += (predicted == labels).sum()\n",
    "print('ResNet18 with pretrain(Rotation) \\n Acc:',(correct/total).item())"
   ]
  }
 ],
 "metadata": {
  "kernelspec": {
   "display_name": "NNDL",
   "language": "python",
   "name": "python3"
  },
  "language_info": {
   "codemirror_mode": {
    "name": "ipython",
    "version": 3
   },
   "file_extension": ".py",
   "mimetype": "text/x-python",
   "name": "python",
   "nbconvert_exporter": "python",
   "pygments_lexer": "ipython3",
   "version": "3.11.3"
  },
  "orig_nbformat": 4
 },
 "nbformat": 4,
 "nbformat_minor": 2
}
