{
 "cells": [
  {
   "cell_type": "code",
   "execution_count": null,
   "metadata": {},
   "outputs": [],
   "source": [
    "import cv2\n",
    "from PIL import Image\n",
    "import numpy as np\n",
    "import os"
   ]
  },
  {
   "cell_type": "code",
   "execution_count": null,
   "metadata": {},
   "outputs": [],
   "source": [
    "cap = cv2.VideoCapture('./raw_data/yibu.mp4')  # 获取视频对象\n",
    "isOpened = cap.isOpened  # 判断是否打开\n",
    "# 视频信息获取\n",
    "fps = cap.get(cv2.CAP_PROP_FPS)"
   ]
  },
  {
   "cell_type": "code",
   "execution_count": null,
   "metadata": {},
   "outputs": [],
   "source": [
    "imageNum = 0\n",
    "sum=0\n",
    "timef=15  #隔15帧保存一张图片\n",
    "\n",
    "while (isOpened):\n",
    "\n",
    "    sum+=1\n",
    "\n",
    "    (frameState, frame) = cap.read()  # 记录每帧及获取状态\n",
    "\n",
    "    if frameState == True and (sum % timef==0):\n",
    "\n",
    "        # 格式转变，BGRtoRGB\n",
    "        frame = cv2.cvtColor(frame, cv2.COLOR_BGR2RGB)\n",
    "        # 转变成Image\n",
    "        frame = Image.fromarray(np.uint8(frame))\n",
    "\n",
    "        frame = np.array(frame)\n",
    "\n",
    "        # RGBtoBGR满足opencv显示格式\n",
    "        frame = cv2.cvtColor(frame, cv2.COLOR_RGB2BGR)\n",
    "\n",
    "        imageNum = imageNum + 1\n",
    "        fileName = './raw_data/images/' + str(imageNum) + '.jpg'  # 存储路径\n",
    "        frame=frame[0:640,320:960].copy()\n",
    "        cv2.imwrite(fileName, frame, [cv2.IMWRITE_JPEG_QUALITY, 100])\n",
    "        print(fileName + \" successfully write in\")  # 输出存储状态\n",
    "\n",
    "    elif frameState == False:\n",
    "        break\n",
    "\n",
    "print('finish!')\n",
    "cap.release()\n"
   ]
  }
 ],
 "metadata": {
  "kernelspec": {
   "display_name": "NNDL",
   "language": "python",
   "name": "python3"
  },
  "language_info": {
   "codemirror_mode": {
    "name": "ipython",
    "version": 3
   },
   "file_extension": ".py",
   "mimetype": "text/x-python",
   "name": "python",
   "nbconvert_exporter": "python",
   "pygments_lexer": "ipython3",
   "version": "3.11.3"
  },
  "orig_nbformat": 4
 },
 "nbformat": 4,
 "nbformat_minor": 2
}
