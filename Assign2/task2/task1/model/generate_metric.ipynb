{
 "cells": [
  {
   "cell_type": "code",
   "execution_count": 1,
   "metadata": {},
   "outputs": [],
   "source": [
    "import torch\n",
    "import torch.nn.functional as F\n",
    "from torch.utils.data import DataLoader\n",
    "\n",
    "import torchvision\n",
    "from torchvision import datasets\n",
    "import torchvision.transforms as transforms\n",
    "from sklearn.model_selection import train_test_split\n",
    "\n",
    "from utils import *\n",
    "from models import *\n",
    "from train import predict_model\n",
    "from dataset import CIFAR_100_Dataset"
   ]
  },
  {
   "cell_type": "code",
   "execution_count": 2,
   "metadata": {},
   "outputs": [],
   "source": [
    "seed_all(0)\n",
    "data_path = './dataset/cifar100'\n",
    "transform = transforms.Compose([transforms.ToTensor(), transforms.Normalize(mean=[0.4914, 0.4822, 0.4465], std=[0.0203, 0.1994, 0.2010])])\n",
    "train_valid_dataset = datasets.cifar.CIFAR100(data_path, train=True, transform=transform)\n",
    "test_dataset = datasets.cifar.CIFAR100(data_path, train=False, transform=transform)\n",
    "train_dataset, valid_dataset, train_label, valid_label= train_test_split(train_valid_dataset.data, train_valid_dataset.targets, test_size=0.2, stratify=train_valid_dataset.targets)\n",
    "aug_train_dataset = CIFAR_100_Dataset(train_dataset, train_label, shuffle=True, prob=0.2, augment='cutmix', beta=1)\n",
    "train_dataset = CIFAR_100_Dataset(train_dataset / 255, train_label)\n",
    "valid_dataset = CIFAR_100_Dataset(valid_dataset / 255, valid_label)\n",
    "test_dataset = CIFAR_100_Dataset(test_dataset.data / 255, test_dataset.targets)"
   ]
  },
  {
   "cell_type": "code",
   "execution_count": 3,
   "metadata": {},
   "outputs": [],
   "source": [
    "BATCH_SIZE = 1024\n",
    "INPUT_CHANNEL = 3\n",
    "OUTPUT_CHANNEL = 100\n",
    "\n",
    "origin_params = torch.load('./log/lr_0.001_weight_decay_0.0_aug_None/model_param.pth')\n",
    "cutmix_params = torch.load('./log/lr_0.001_weight_decay_0.0_aug_cutmix_prob_0.5_beta_1.0/model_param.pth')\n",
    "cutout_params = torch.load('./log/lr_0.001_weight_decay_0.0_aug_cutout_prob_0.5_beta_1.0/model_param.pth')\n",
    "mixup_params = torch.load('./log/lr_0.001_weight_decay_0.0_aug_mixup_prob_0.5_beta_1.0/model_param.pth')"
   ]
  },
  {
   "cell_type": "code",
   "execution_count": 4,
   "metadata": {},
   "outputs": [],
   "source": [
    "aug_train_loader = DataLoader(aug_train_dataset, batch_size=BATCH_SIZE, shuffle=True)\n",
    "train_loader = DataLoader(train_dataset, batch_size=BATCH_SIZE)\n",
    "valid_loader = DataLoader(valid_dataset, batch_size=BATCH_SIZE)\n",
    "test_loader = DataLoader(test_dataset, batch_size=BATCH_SIZE)\n",
    "\n",
    "loss_func = F.cross_entropy\n",
    "resnet18_model = ResNet18(input_channel=INPUT_CHANNEL, output_channel=OUTPUT_CHANNEL)\n",
    "metrics = Metrics(['accuracy', 'precision', 'recall', 'f1_score'])"
   ]
  },
  {
   "cell_type": "code",
   "execution_count": 5,
   "metadata": {},
   "outputs": [
    {
     "name": "stdout",
     "output_type": "stream",
     "text": [
      "Origin Model\n"
     ]
    },
    {
     "data": {
      "text/plain": [
       "(1.9954503675460815,\n",
       " tensor([72., 33., 72.,  ..., 37., 42., 70.]),\n",
       " {'accuracy': 0.5207,\n",
       "  'precision': 0.5616343477782396,\n",
       "  'recall': 0.5207,\n",
       "  'micro_f1': 0.5207,\n",
       "  'macro_f1': 0.5259116230695718})"
      ]
     },
     "execution_count": 5,
     "metadata": {},
     "output_type": "execute_result"
    }
   ],
   "source": [
    "print(\"Origin Model\")\n",
    "resnet18_model.load_state_dict(origin_params)\n",
    "predict_model(resnet18_model, test_loader, loss_func, 'cpu', metrics=metrics)"
   ]
  },
  {
   "cell_type": "code",
   "execution_count": 6,
   "metadata": {},
   "outputs": [
    {
     "name": "stdout",
     "output_type": "stream",
     "text": [
      "CutMix Model\n"
     ]
    },
    {
     "data": {
      "text/plain": [
       "(1.8469962120056151,\n",
       " tensor([ 2., 33., 72.,  ..., 51., 42., 70.]),\n",
       " {'accuracy': 0.5416,\n",
       "  'precision': 0.5816391250267754,\n",
       "  'recall': 0.5416000000000001,\n",
       "  'micro_f1': 0.5416,\n",
       "  'macro_f1': 0.5381288713646828})"
      ]
     },
     "execution_count": 6,
     "metadata": {},
     "output_type": "execute_result"
    }
   ],
   "source": [
    "print(\"CutMix Model\")\n",
    "resnet18_model.load_state_dict(cutmix_params)\n",
    "predict_model(resnet18_model, test_loader, loss_func, 'cpu', metrics=metrics)"
   ]
  },
  {
   "cell_type": "code",
   "execution_count": 7,
   "metadata": {},
   "outputs": [
    {
     "name": "stdout",
     "output_type": "stream",
     "text": [
      "Cutout Model\n"
     ]
    },
    {
     "data": {
      "text/plain": [
       "(2.126535963821411,\n",
       " tensor([49., 33., 55.,  ..., 51., 42., 70.]),\n",
       " {'accuracy': 0.5241,\n",
       "  'precision': 0.5556018649555718,\n",
       "  'recall': 0.5241,\n",
       "  'micro_f1': 0.5241,\n",
       "  'macro_f1': 0.5213198210847135})"
      ]
     },
     "execution_count": 7,
     "metadata": {},
     "output_type": "execute_result"
    }
   ],
   "source": [
    "print(\"Cutout Model\")\n",
    "resnet18_model.load_state_dict(cutout_params)\n",
    "predict_model(resnet18_model, test_loader, loss_func, 'cpu', metrics=metrics)"
   ]
  },
  {
   "cell_type": "code",
   "execution_count": 9,
   "metadata": {},
   "outputs": [
    {
     "name": "stdout",
     "output_type": "stream",
     "text": [
      "Mixup Model\n"
     ]
    },
    {
     "data": {
      "text/plain": [
       "(1.962523399734497,\n",
       " tensor([68., 33., 30.,  ..., 51., 97., 70.]),\n",
       " {'accuracy': 0.5335,\n",
       "  'precision': 0.5539419456471145,\n",
       "  'recall': 0.5335,\n",
       "  'micro_f1': 0.5335,\n",
       "  'macro_f1': 0.5285037689820197})"
      ]
     },
     "execution_count": 9,
     "metadata": {},
     "output_type": "execute_result"
    }
   ],
   "source": [
    "print(\"Mixup Model\")\n",
    "resnet18_model.load_state_dict(mixup_params)\n",
    "predict_model(resnet18_model, test_loader, loss_func, 'cpu', metrics=metrics)"
   ]
  },
  {
   "cell_type": "code",
   "execution_count": null,
   "metadata": {},
   "outputs": [],
   "source": []
  }
 ],
 "metadata": {
  "kernelspec": {
   "display_name": "Python 3",
   "language": "python",
   "name": "python3"
  },
  "language_info": {
   "codemirror_mode": {
    "name": "ipython",
    "version": 3
   },
   "file_extension": ".py",
   "mimetype": "text/x-python",
   "name": "python",
   "nbconvert_exporter": "python",
   "pygments_lexer": "ipython3",
   "version": "3.9.16"
  },
  "orig_nbformat": 4
 },
 "nbformat": 4,
 "nbformat_minor": 2
}
