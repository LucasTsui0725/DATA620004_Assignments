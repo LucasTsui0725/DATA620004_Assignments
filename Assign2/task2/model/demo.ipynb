{
 "cells": [
  {
   "cell_type": "code",
   "execution_count": 1,
   "metadata": {},
   "outputs": [],
   "source": [
    "from torch.utils.data import Dataset, DataLoader"
   ]
  },
  {
   "cell_type": "code",
   "execution_count": 10,
   "metadata": {},
   "outputs": [
    {
     "data": {
      "text/plain": [
       "['G:/BaiduNetdiskWorkspace/working_place/NN_DL/fast_rcnn_fcos/data/dataset_jychai/train',\n",
       " '000005.jpg']"
      ]
     },
     "execution_count": 10,
     "metadata": {},
     "output_type": "execute_result"
    }
   ],
   "source": [
    "import glob\n",
    "\n",
    "\n",
    "glob.glob(\"G:/BaiduNetdiskWorkspace/working_place/NN_DL/fast_rcnn_fcos/data/dataset_jychai/train/*.jpg\")[0].split('\\\\')"
   ]
  },
  {
   "cell_type": "code",
   "execution_count": 1,
   "metadata": {},
   "outputs": [
    {
     "data": {
      "text/plain": [
       "'4.5.5'"
      ]
     },
     "execution_count": 1,
     "metadata": {},
     "output_type": "execute_result"
    }
   ],
   "source": [
    "import cv2\n",
    "\n",
    "cv2.__version__"
   ]
  },
  {
   "cell_type": "code",
   "execution_count": 6,
   "metadata": {},
   "outputs": [],
   "source": [
    "import podm\n",
    "from podm import metrics"
   ]
  },
  {
   "attachments": {},
   "cell_type": "markdown",
   "metadata": {},
   "source": [
    "task2\n",
    "\n",
    "1. 在四张测试图像上 展示FRCNN的proposal box\n",
    "2. 训练完成后 在test上 展示结果\n",
    "   \n",
    "3. 数据集介绍\n",
    "4. train test split\n",
    "5. 网络结构\n",
    "6. batch-size lr opt iter epoch loss metric\n",
    "7. loss_iter vis in train and val\n",
    "8. map acc miou curve in val"
   ]
  }
 ],
 "metadata": {
  "kernelspec": {
   "display_name": "DL39",
   "language": "python",
   "name": "python3"
  },
  "language_info": {
   "codemirror_mode": {
    "name": "ipython",
    "version": 3
   },
   "file_extension": ".py",
   "mimetype": "text/x-python",
   "name": "python",
   "nbconvert_exporter": "python",
   "pygments_lexer": "ipython3",
   "version": "3.9.16"
  },
  "orig_nbformat": 4
 },
 "nbformat": 4,
 "nbformat_minor": 2
}
