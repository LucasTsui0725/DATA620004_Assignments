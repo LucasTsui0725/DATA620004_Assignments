{
 "cells": [
  {
   "cell_type": "code",
   "execution_count": 1,
   "metadata": {},
   "outputs": [],
   "source": [
    "import os\n",
    "import random\n",
    "import shutil"
   ]
  },
  {
   "cell_type": "code",
   "execution_count": 2,
   "metadata": {},
   "outputs": [],
   "source": [
    "Annot_source='../data/VOCdevkit/VOC2007/Annotations/'\n",
    "Pic_source='../data/VOCdevkit/VOC2007/JPEGImages/'\n",
    "\n",
    "train_target='../data/dataset_jychai/train/'\n",
    "test_target='../data/dataset_jychai/val/'\n",
    "\n",
    "ann_file=os.listdir(Annot_source)\n",
    "train_file=random.sample(ann_file,4000)"
   ]
  },
  {
   "cell_type": "code",
   "execution_count": 3,
   "metadata": {},
   "outputs": [],
   "source": [
    "for filei in ann_file:\n",
    "    if filei in train_file:\n",
    "        shutil.copy(Annot_source+filei,train_target)\n",
    "        shutil.copy(Pic_source+filei.split('.')[0]+'.jpg',train_target)\n",
    "    else:\n",
    "        shutil.copy(Annot_source+filei,test_target)\n",
    "        shutil.copy(Pic_source+filei.split('.')[0]+'.jpg',test_target)\n",
    "    "
   ]
  }
 ],
 "metadata": {
  "kernelspec": {
   "display_name": "DL39",
   "language": "python",
   "name": "python3"
  },
  "language_info": {
   "codemirror_mode": {
    "name": "ipython",
    "version": 3
   },
   "file_extension": ".py",
   "mimetype": "text/x-python",
   "name": "python",
   "nbconvert_exporter": "python",
   "pygments_lexer": "ipython3",
   "version": "3.9.16"
  },
  "orig_nbformat": 4
 },
 "nbformat": 4,
 "nbformat_minor": 2
}
